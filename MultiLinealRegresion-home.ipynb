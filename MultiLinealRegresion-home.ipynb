{
 "cells": [
  {
   "cell_type": "code",
   "execution_count": 1,
   "metadata": {},
   "outputs": [],
   "source": [
    "\n",
    "import pandas as pd  \n",
    "import numpy as np  \n",
    "import matplotlib.pyplot as plt  \n"
   ]
  },
  {
   "cell_type": "code",
   "execution_count": 2,
   "metadata": {},
   "outputs": [],
   "source": [
    "X_train = pd.read_csv('x_train_ex1data2(Home).csv') \n",
    "y_train = pd.read_csv('y_train_ex1data2(Home).csv') \n",
    "X_test  = pd.read_csv('x_test_ex1data2(Home).csv') \n",
    "y_test  = pd.read_csv('y_test_ex1data2(Home).csv') \n",
    "\n",
    "\n",
    "X_train = X_train.iloc[:,:] \n",
    "y_train = y_train.iloc[:,0]\n",
    "X_test  = X_test.iloc[:,:]\n",
    "y_test  = y_test.iloc[:,0]"
   ]
  },
  {
   "cell_type": "code",
   "execution_count": 3,
   "metadata": {},
   "outputs": [],
   "source": [
    "n_exa_train =len(y_train)\n",
    "n_exa_test =len(y_test)\n",
    "\n",
    "# Normalización\n",
    "#----------------------------------------\n",
    "\n",
    "#chicos tanto la media como la desviacion estandar se calcula en base a los datos de entrenamiento y de prueba. Es\n",
    "# por eso que estoy concatenando el conjunto de prueba y entrenamiendo \n",
    "X_media=np.concatenate((X_train,X_test),axis=0).mean(axis=0)\n",
    "X_std=np.concatenate((X_train,X_test),axis=0).std(axis=0)\n",
    "y_media=np.concatenate((y_train,y_test),axis=0).mean()\n",
    "y_std=np.concatenate((y_train,y_test),axis=0).std()\n",
    "\n",
    "X_train = (X_train - X_media)/X_std\n",
    "y_train = (y_train - y_media)/y_std\n",
    "X_test = (X_test - X_media)/X_std\n",
    "y_test = (y_test - y_media)/y_std\n",
    "\n",
    "#----------------------------------------\n",
    "\n",
    "\n",
    "#Añadimos columnas de 1's para términos independientes\n",
    "X_train  = np.concatenate((np.ones([n_exa_train,1]),X_train ), axis=1) \n",
    "X_test = np.concatenate((np.ones([n_exa_test,1]),X_test ), axis=1)\n",
    "n_features = X_train.shape[1] #número de características en X\n",
    "\n"
   ]
  },
  {
   "cell_type": "code",
   "execution_count": 4,
   "metadata": {},
   "outputs": [],
   "source": [
    "def predict(theta, data):\n",
    "    return np.dot(data,theta)"
   ]
  },
  {
   "cell_type": "code",
   "execution_count": 5,
   "metadata": {},
   "outputs": [],
   "source": [
    "#Ecuación normal\n",
    "theta = np.dot(np.dot(np.linalg.inv(np.dot(np.transpose(X_train), X_train)), np.transpose(X_train)), y_train)    \n"
   ]
  },
  {
   "cell_type": "code",
   "execution_count": 6,
   "metadata": {},
   "outputs": [
    {
     "name": "stdout",
     "output_type": "stream",
     "text": [
      "Entrenamiento usando la ecuacion Normal\n",
      "=========================================\n",
      "Vector Theta\n",
      "[-0.01368891  0.75707463]\n",
      "Costo (Error Cuadrático Medio)\n",
      "0.2867196013706497\n"
     ]
    }
   ],
   "source": [
    "y_pred_test = predict(theta, X_test )\n",
    "Costo=((y_test-y_pred_test)**2).mean()/2 # Para el gradiente descendiente siempre estar dividio entre 2 para el conjunto de prueba\n",
    "Costo=((y_test-y_pred_test)**2).mean() # algunos autores lo dividen entre 2 otros no.\n",
    "print(\"Entrenamiento usando la ecuacion Normal\") #Mínimo error cuadrático mediio\n",
    "print(\"=========================================\")\n",
    "print(\"Vector Theta\")\n",
    "print(theta)\n",
    "print(\"Costo (Error Cuadrático Medio)\")\n",
    "print(Costo)"
   ]
  },
  {
   "cell_type": "code",
   "execution_count": 7,
   "metadata": {},
   "outputs": [
    {
     "name": "stdout",
     "output_type": "stream",
     "text": [
      "Entrenamiento usando Gradiente Descendiente\n",
      "=========================================\n",
      "Vector Theta\n",
      "[-0.01368891  0.75707463]\n",
      "Costo (Error Cuadratico Medio)\n",
      "0.2867196013706497\n"
     ]
    }
   ],
   "source": [
    "alpha = 0.2 #ratio de aprendizaje\n",
    "iters = 500 #cantidad de iteraciones\n",
    "theta = np.zeros(n_features) # inicializar con un vector de ceros.\n",
    "\n",
    "\n",
    "\n",
    "# computecost (devuelve un escalar)\n",
    "def computeCost(X,y,theta):\n",
    "    m = X.shape[0] #tamaño en filas del conjunto de entrenamiento\n",
    "    h_theta = np.dot(X,theta) #guarda los resultados de la hipotesis h(x), matriz de m filas    \n",
    "    resultado = np.power( (h_theta-y) , 2)\n",
    "    return ( np.sum(resultado) ) / (2*m) \n",
    "\n",
    "\n",
    "# gradient descent (devuelve theta y un vector de costo de tamaño iters). La función gradiente descendiente llama a la \n",
    "# función computecost iter veces. Solo puede haber un for para las iteraciones, no un for para los thetas \n",
    "def gradientDescent(X,y,theta,iters,alpha):\n",
    "    costos = np.zeros(iters) #vector de costos para cada iteración\n",
    "    m = X.shape[0] #tamaño en filas del conjunto de entrenamiento    \n",
    "    for i in range(iters):\n",
    "        costos[i] = computeCost(X,y,theta)\n",
    "        h_theta = np.dot(X,theta) #guarda los resultados de la hipotesis h(x), matriz de m filas\n",
    "        derivada = h_theta - y # sum[ (h(x)-y)]\n",
    "        derivada = derivada / m\n",
    "        gradiente = np.dot( np.transpose(X) ,derivada ) # sum[ (h(x)-y)*x ] / m\n",
    "        theta = theta - (gradiente*alpha)\n",
    "    return theta, costos\n",
    "    \n",
    "\n",
    "theta,cost = gradientDescent(X_train,y_train,theta,iters,alpha)\n",
    "y_pred_test = predict(theta, X_test )\n",
    "Costo=((y_test-y_pred_test)**2).mean()\n",
    "\n",
    "print(\"Entrenamiento usando Gradiente Descendiente\")\n",
    "print(\"=========================================\")\n",
    "print(\"Vector Theta\")\n",
    "print(theta)\n",
    "print(\"Costo (Error Cuadratico Medio)\")\n",
    "print(Costo)\n"
   ]
  },
  {
   "cell_type": "code",
   "execution_count": 8,
   "metadata": {},
   "outputs": [
    {
     "data": {
      "image/png": "[encoded data removed]",
      "text/plain": [
       "<Figure size 360x720 with 2 Axes>"
      ]
     },
     "metadata": {
      "needs_background": "light"
     },
     "output_type": "display_data"
    }
   ],
   "source": [
    "from pylab import rcParams\n",
    "rcParams['figure.figsize'] = 5, 10\n",
    "\n",
    "\n",
    "#plot the cost\n",
    "plt.subplot(2,1,1)\n",
    "plt.plot(np.arange(iters), cost, 'r')  \n",
    "plt.xlabel('Iteración')  \n",
    "plt.ylabel('Costo')  \n",
    "plt.title('Costo por iteración') # Esta gráfica es del costo en el conjunto de entrenamiento y debiera disminuir.\n",
    "\n",
    "if n_features==2: # este ploteo solo funciona cuando el conjunto de datos tiene dos características\n",
    "    plt.subplot(2,1,2)\n",
    "    plt.scatter(X_train[:,1], y_train, s=10) # esto solo está ploteando los datos del conjunto de entremaniento. \n",
    "                                             # es solo para saber si la línea encontrada se ajusta a la distribución de \n",
    "                                             # los datos de entrenamiento\n",
    "    linea = np.arange(np.min(X_train[:,1]-1), np.max(X_train[:,1]+1))\n",
    "    linea = np.column_stack((np.ones(linea.shape[0]),linea))\n",
    "    plt.plot(linea[:,1], predict(theta,linea), c=\"green\")\n",
    "    plt.xlabel('X_1')\n",
    "    plt.ylabel('y')\n",
    "    cadena =\"Recta: y = X_1 * \" + str(round(theta[1],2)) + \" +  \" + str(round(theta[0],2))\n",
    "    plt.text(0.5, 0.5, cadena, horizontalalignment='left', verticalalignment='center',)\n",
    "\n",
    "plt.show()"
   ]
  },
  {
   "cell_type": "code",
   "execution_count": null,
   "metadata": {},
   "outputs": [],
   "source": []
  },
  {
   "cell_type": "code",
   "execution_count": null,
   "metadata": {},
   "outputs": [],
   "source": []
  },
  {
   "cell_type": "code",
   "execution_count": null,
   "metadata": {},
   "outputs": [],
   "source": []
  }
 ],
 "metadata": {
  "kernelspec": {
   "display_name": "Python 3",
   "language": "python",
   "name": "python3"
  },
  "language_info": {
   "codemirror_mode": {
    "name": "ipython",
    "version": 3
   },
   "file_extension": ".py",
   "mimetype": "text/x-python",
   "name": "python",
   "nbconvert_exporter": "python",
   "pygments_lexer": "ipython3",
   "version": "3.7.6"
  }
 },
 "nbformat": 4,
 "nbformat_minor": 2
}
